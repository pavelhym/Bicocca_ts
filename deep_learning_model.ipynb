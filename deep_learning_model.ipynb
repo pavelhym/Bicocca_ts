{
 "cells": [
  {
   "cell_type": "code",
   "execution_count": 2,
   "metadata": {},
   "outputs": [],
   "source": [
    "import warnings\n",
    "warnings.filterwarnings(\"ignore\")\n",
    "\n",
    "import pandas as pd\n",
    "import numpy as np\n",
    "import matplotlib.pyplot as plt\n",
    "from statsmodels.tsa.seasonal import seasonal_decompose\n",
    "from statsmodels.tsa.stattools import adfuller, acf, pacf, kpss\n",
    "from statsmodels.graphics.tsaplots import plot_acf, plot_pacf\n",
    "from sklearn.metrics import mean_absolute_error, mean_squared_error\n",
    "from statsmodels.tsa.arima.model import ARIMA"
   ]
  },
  {
   "cell_type": "code",
   "execution_count": 3,
   "metadata": {},
   "outputs": [],
   "source": [
    "def check_stationarity(series):\n",
    "    adf_result = adfuller(series.dropna())\n",
    "    kpss_result = kpss(series.dropna(), regression=\"c\", nlags=\"auto\")\n",
    "\n",
    "    print(f\"ADF p-value: {adf_result[1]}\")  # < 0.05 → stationary\n",
    "    print(f\"KPSS p-value: {kpss_result[1]}\")  # > 0.05 → stationary\n",
    "df = pd.read_csv('D:/Documents/Bicocca/2Year/TimeSeries/project/data/ts2024.csv')\n",
    "df['DateTime'] = pd.to_datetime(df['DateTime'], format='ISO8601')\n",
    "\n",
    "hourly_index = pd.date_range(start=df['DateTime'].min(), end=df['DateTime'].max(), freq='H')\n",
    "\n",
    "hourly_index = pd.date_range(start=df['DateTime'].min(), end=df['DateTime'].max(), freq='H')\n",
    "df = df.set_index(hourly_index).rename_axis('date')\n",
    "\n",
    "df['DayOfWeek'] = df.index.dayofweek\n",
    "\n",
    "\n",
    "train = df[df['X'].notna()]  \n",
    "test = df[df['X'].isna()]  "
   ]
  },
  {
   "cell_type": "code",
   "execution_count": 4,
   "metadata": {},
   "outputs": [],
   "source": [
    "\n",
    "\n",
    "train2 = train[-3000:-1000]\n",
    "test = train[-1000:]\n",
    "\n",
    "\n"
   ]
  },
  {
   "cell_type": "code",
   "execution_count": 6,
   "metadata": {},
   "outputs": [
    {
     "ename": "ModuleNotFoundError",
     "evalue": "No module named 'timesfm'",
     "output_type": "error",
     "traceback": [
      "\u001b[1;31m---------------------------------------------------------------------------\u001b[0m",
      "\u001b[1;31mModuleNotFoundError\u001b[0m                       Traceback (most recent call last)",
      "Cell \u001b[1;32mIn[6], line 1\u001b[0m\n\u001b[1;32m----> 1\u001b[0m \u001b[38;5;28;01mimport\u001b[39;00m \u001b[38;5;21;01mtimesfm\u001b[39;00m\n",
      "\u001b[1;31mModuleNotFoundError\u001b[0m: No module named 'timesfm'"
     ]
    }
   ],
   "source": [
    "import timesfm\n"
   ]
  },
  {
   "cell_type": "code",
   "execution_count": null,
   "metadata": {},
   "outputs": [],
   "source": [
    "import timesfm\n",
    "\n",
    "tfm = timesfm.TimesFm(\n",
    "    context_len=<context>,\n",
    "    horizon_len=<horizon>,\n",
    "    input_patch_len=32,\n",
    "    output_patch_len=128,\n",
    "    num_layers=20,\n",
    "    model_dims=1280,\n",
    "    backend=<backend>,\n",
    ")\n",
    "tfm.load_from_checkpoint(repo_id=\"google/timesfm-1.0-200m\")\n"
   ]
  }
 ],
 "metadata": {
  "kernelspec": {
   "display_name": "yandex-market",
   "language": "python",
   "name": "python3"
  },
  "language_info": {
   "codemirror_mode": {
    "name": "ipython",
    "version": 3
   },
   "file_extension": ".py",
   "mimetype": "text/x-python",
   "name": "python",
   "nbconvert_exporter": "python",
   "pygments_lexer": "ipython3",
   "version": "3.10.14"
  }
 },
 "nbformat": 4,
 "nbformat_minor": 2
}
